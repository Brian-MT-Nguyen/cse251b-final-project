{
 "cells": [
  {
   "cell_type": "markdown",
   "id": "b76409c5",
   "metadata": {},
   "source": [
    "### Put all imports necessary here"
   ]
  },
  {
   "cell_type": "code",
   "execution_count": 2,
   "id": "6b140f14",
   "metadata": {},
   "outputs": [],
   "source": [
    "import numpy as np\n",
    "import pandas as pd\n",
    "\n",
    "import torch\n",
    "import torch.nn as nn\n",
    "from torch.utils.data import DataLoader, TensorDataset, RandomSampler\n",
    "from tqdm import tqdm\n",
    "import matplotlib.pyplot as plt"
   ]
  },
  {
   "cell_type": "markdown",
   "id": "2bad7810",
   "metadata": {},
   "source": [
    "### Load the Data"
   ]
  },
  {
   "cell_type": "code",
   "execution_count": 3,
   "id": "25bf98ce",
   "metadata": {},
   "outputs": [
    {
     "name": "stdout",
     "output_type": "stream",
     "text": [
      "train_data's shape (10000, 50, 110, 6)\n",
      "test_data's shape (2100, 50, 50, 6)\n"
     ]
    }
   ],
   "source": [
    "# Load the training data\n",
    "train_file = np.load('train.npz')\n",
    "train_data = train_file['data']\n",
    "print(\"train_data's shape\", train_data.shape)\n",
    "\n",
    "# Load the testing data\n",
    "test_file = np.load('test_input.npz')\n",
    "test_data = test_file['data']\n",
    "print(\"test_data's shape\", test_data.shape)"
   ]
  },
  {
   "cell_type": "markdown",
   "id": "9f51a9aa",
   "metadata": {},
   "source": [
    "### Data Preprocessing"
   ]
  },
  {
   "cell_type": "code",
   "execution_count": 4,
   "id": "f57d948c",
   "metadata": {},
   "outputs": [],
   "source": [
    "def prepare_data(data, is_train=True):\n",
    "    \"\"\"Extract ego vehicle's (agent 0) trajectories\"\"\"\n",
    "    if is_train:\n",
    "        X = data[:, 0, :50, :]  # (N, 50, 6) - First 50 timesteps\n",
    "        Y = data[:, 0, 50:, :2]  # (N, 60, 2) - Next 60 (x,y)\n",
    "    else:\n",
    "        X = data[:, 0, :, :]  # (N, 50, 6) - Test uses only 50 timesteps\n",
    "        Y = None\n",
    "    return X, Y\n",
    "\n",
    "X_train, Y_train = prepare_data(train_data)\n",
    "X_test, _ = prepare_data(test_data, is_train=False)\n",
    "\n",
    "# Normalize using training stats\n",
    "pos_mean, pos_std = X_train[..., :2].mean(), X_train[..., :2].std()\n",
    "X_train_norm = (X_train - pos_mean) / pos_std\n",
    "Y_train_norm = (Y_train - pos_mean) / pos_std\n",
    "X_test_norm = (X_test - pos_mean) / pos_std\n",
    "\n",
    "# Convert to PyTorch tensors\n",
    "train_dataset = TensorDataset(\n",
    "    torch.FloatTensor(X_train_norm), \n",
    "    torch.FloatTensor(Y_train_norm)\n",
    ")\n",
    "train_loader = DataLoader(train_dataset, batch_size=64, shuffle=True)"
   ]
  },
  {
   "cell_type": "markdown",
   "id": "875ac3ce",
   "metadata": {},
   "source": [
    "### Define Models"
   ]
  },
  {
   "cell_type": "code",
   "execution_count": 5,
   "id": "49e84b48",
   "metadata": {},
   "outputs": [],
   "source": [
    "class TrajectoryMLP(nn.Module):\n",
    "    def __init__(self):\n",
    "        super().__init__()\n",
    "        self.flatten = nn.Flatten()\n",
    "        self.net = nn.Sequential(\n",
    "            nn.Linear(50*6, 512),\n",
    "            nn.ReLU(),\n",
    "            nn.Dropout(0.2),\n",
    "            nn.Linear(512, 256),\n",
    "            nn.ReLU(),\n",
    "            nn.Linear(256, 60*2)  # Predict all 60 timesteps\n",
    "        )\n",
    "    \n",
    "    def forward(self, x):\n",
    "        x = self.flatten(x)\n",
    "        return self.net(x).view(-1, 60, 2)  # Reshape to (batch, 60, 2)\n",
    "\n",
    "model = TrajectoryMLP()\n",
    "optimizer = torch.optim.Adam(model.parameters(), lr=1e-3)\n",
    "criterion = nn.MSELoss()"
   ]
  },
  {
   "cell_type": "markdown",
   "id": "c10f5663",
   "metadata": {},
   "source": [
    "### Do Training Loop"
   ]
  },
  {
   "cell_type": "code",
   "execution_count": 6,
   "id": "90634bed",
   "metadata": {},
   "outputs": [
    {
     "name": "stderr",
     "output_type": "stream",
     "text": [
      "Epoch 1: 100%|██████████| 157/157 [00:00<00:00, 203.60it/s]\n"
     ]
    },
    {
     "name": "stdout",
     "output_type": "stream",
     "text": [
      "Avg Loss: 0.0513\n"
     ]
    },
    {
     "name": "stderr",
     "output_type": "stream",
     "text": [
      "Epoch 2: 100%|██████████| 157/157 [00:00<00:00, 767.68it/s]\n"
     ]
    },
    {
     "name": "stdout",
     "output_type": "stream",
     "text": [
      "Avg Loss: 0.0054\n"
     ]
    },
    {
     "name": "stderr",
     "output_type": "stream",
     "text": [
      "Epoch 3: 100%|██████████| 157/157 [00:00<00:00, 799.45it/s]\n"
     ]
    },
    {
     "name": "stdout",
     "output_type": "stream",
     "text": [
      "Avg Loss: 0.0055\n"
     ]
    },
    {
     "name": "stderr",
     "output_type": "stream",
     "text": [
      "Epoch 4: 100%|██████████| 157/157 [00:00<00:00, 763.34it/s]\n"
     ]
    },
    {
     "name": "stdout",
     "output_type": "stream",
     "text": [
      "Avg Loss: 0.0049\n"
     ]
    },
    {
     "name": "stderr",
     "output_type": "stream",
     "text": [
      "Epoch 5: 100%|██████████| 157/157 [00:00<00:00, 842.81it/s]\n"
     ]
    },
    {
     "name": "stdout",
     "output_type": "stream",
     "text": [
      "Avg Loss: 0.0048\n"
     ]
    },
    {
     "name": "stderr",
     "output_type": "stream",
     "text": [
      "Epoch 6: 100%|██████████| 157/157 [00:00<00:00, 765.46it/s]\n"
     ]
    },
    {
     "name": "stdout",
     "output_type": "stream",
     "text": [
      "Avg Loss: 0.0042\n"
     ]
    },
    {
     "name": "stderr",
     "output_type": "stream",
     "text": [
      "Epoch 7: 100%|██████████| 157/157 [00:00<00:00, 770.90it/s]\n"
     ]
    },
    {
     "name": "stdout",
     "output_type": "stream",
     "text": [
      "Avg Loss: 0.0042\n"
     ]
    },
    {
     "name": "stderr",
     "output_type": "stream",
     "text": [
      "Epoch 8: 100%|██████████| 157/157 [00:00<00:00, 772.96it/s]\n"
     ]
    },
    {
     "name": "stdout",
     "output_type": "stream",
     "text": [
      "Avg Loss: 0.0051\n"
     ]
    },
    {
     "name": "stderr",
     "output_type": "stream",
     "text": [
      "Epoch 9: 100%|██████████| 157/157 [00:00<00:00, 773.60it/s]\n"
     ]
    },
    {
     "name": "stdout",
     "output_type": "stream",
     "text": [
      "Avg Loss: 0.0047\n"
     ]
    },
    {
     "name": "stderr",
     "output_type": "stream",
     "text": [
      "Epoch 10: 100%|██████████| 157/157 [00:00<00:00, 769.91it/s]"
     ]
    },
    {
     "name": "stdout",
     "output_type": "stream",
     "text": [
      "Avg Loss: 0.0043\n"
     ]
    },
    {
     "name": "stderr",
     "output_type": "stream",
     "text": [
      "\n"
     ]
    }
   ],
   "source": [
    "device = torch.device('cuda' if torch.cuda.is_available() else 'cpu')\n",
    "model.to(device)\n",
    "\n",
    "for epoch in range(10):\n",
    "    model.train()\n",
    "    total_loss = 0\n",
    "    for batch_X, batch_Y in tqdm(train_loader, desc=f\"Epoch {epoch+1}\"):\n",
    "        batch_X, batch_Y = batch_X.to(device), batch_Y.to(device)\n",
    "        \n",
    "        optimizer.zero_grad()\n",
    "        outputs = model(batch_X)\n",
    "        loss = criterion(outputs, batch_Y)\n",
    "        loss.backward()\n",
    "        optimizer.step()\n",
    "        \n",
    "        total_loss += loss.item()\n",
    "    \n",
    "    print(f\"Avg Loss: {total_loss/len(train_loader):.4f}\")"
   ]
  },
  {
   "cell_type": "code",
   "execution_count": null,
   "id": "f02efb38",
   "metadata": {},
   "outputs": [
    {
     "name": "stderr",
     "output_type": "stream",
     "text": [
      "100%|██████████| 1/1 [00:00<00:00, 121.97it/s]\n"
     ]
    },
    {
     "data": {
      "image/png": "[encoded data removed]",
      "text/plain": [
       "<Figure size 640x480 with 1 Axes>"
      ]
     },
     "metadata": {},
     "output_type": "display_data"
    }
   ],
   "source": [
    "import matplotlib.pyplot as plt\n",
    "\n",
    "sampler = RandomSampler(train_dataset, replacement=True, num_samples=1)\n",
    "train_loader = DataLoader(train_dataset, sampler=sampler, batch_size=1)\n",
    "\n",
    "\n",
    "\n",
    "for batch_X, batch_Y in tqdm(train_loader, total=len(train_loader)):\n",
    "    batch_X, batch_Y = batch_X.to(device), batch_Y.to(device)\n",
    "    outputs = model(batch_X)\n",
    "\n",
    "    pred = outputs.cpu().detach().numpy()[0]\n",
    "    actual = batch_Y.cpu().detach().numpy()[0]\n",
    "\n",
    "\n",
    "    x_pred = pred[:, 0]\n",
    "    y_pred = pred[:, 1]\n",
    "    x_actual = actual[:, 0]\n",
    "    y_actual = actual[:, 1]\n",
    "    color = range(len(x_pred))\n",
    "\n",
    "    plt.scatter(x_pred, y_pred, label=\"predicted\", c=color, cmap = \"autumn\")\n",
    "    plt.title(\"MLP Model versus Ground Truth Sample\")\n",
    "    plt.xlabel(\"x position (Normalized)\")\n",
    "    plt.ylabel(\"y position (Normalized)\")\n",
    "    plt.scatter(x_actual, y_actual, label=\"actual\", c=color, cmap = \"winter\")\n",
    "    plt.legend()\n",
    "\n",
    "\n",
    "\n",
    "\n",
    "\n",
    "\n",
    "    \n"
   ]
  },
  {
   "cell_type": "code",
   "execution_count": null,
   "id": "1e179da2",
   "metadata": {},
   "outputs": [],
   "source": []
  },
  {
   "cell_type": "code",
   "execution_count": null,
   "id": "641270fd",
   "metadata": {},
   "outputs": [],
   "source": []
  }
 ],
 "metadata": {
  "kernelspec": {
   "display_name": "cse251b",
   "language": "python",
   "name": "python3"
  },
  "language_info": {
   "codemirror_mode": {
    "name": "ipython",
    "version": 3
   },
   "file_extension": ".py",
   "mimetype": "text/x-python",
   "name": "python",
   "nbconvert_exporter": "python",
   "pygments_lexer": "ipython3",
   "version": "3.13.3"
  }
 },
 "nbformat": 4,
 "nbformat_minor": 5
}
