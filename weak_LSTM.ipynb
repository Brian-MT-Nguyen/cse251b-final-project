{
 "cells": [
  {
   "cell_type": "markdown",
   "id": "39357cfa",
   "metadata": {},
   "source": [
    "## Put all imports necessary here"
   ]
  },
  {
   "cell_type": "code",
   "execution_count": 7,
   "id": "be0f6a6f",
   "metadata": {},
   "outputs": [],
   "source": [
    "import numpy as np\n",
    "import pandas as pd\n",
    "import torch\n",
    "import torch.nn as nn\n",
    "from torch.utils.data import DataLoader, TensorDataset\n",
    "from tqdm import tqdm\n",
    "import matplotlib.pyplot as plt"
   ]
  },
  {
   "cell_type": "markdown",
   "id": "4e17a1ee",
   "metadata": {},
   "source": [
    "## Load the Data"
   ]
  },
  {
   "cell_type": "code",
   "execution_count": 8,
   "id": "4847f61a",
   "metadata": {},
   "outputs": [
    {
     "name": "stdout",
     "output_type": "stream",
     "text": [
      "train_data's shape (10000, 50, 110, 6)\n",
      "test_data's shape (2100, 50, 50, 6)\n"
     ]
    }
   ],
   "source": [
    "# Load the training data\n",
    "train_file = np.load('train.npz')\n",
    "train_data = train_file['data']\n",
    "print(\"train_data's shape\", train_data.shape)\n",
    "\n",
    "# Load the testing data\n",
    "test_file = np.load('test_input.npz')\n",
    "test_data = test_file['data']\n",
    "print(\"test_data's shape\", test_data.shape)\n"
   ]
  },
  {
   "cell_type": "markdown",
   "id": "464d8a08",
   "metadata": {},
   "source": [
    "## Data Preprocessing"
   ]
  },
  {
   "cell_type": "code",
   "execution_count": 9,
   "id": "da751e56",
   "metadata": {},
   "outputs": [],
   "source": [
    "def prepare_data(data, is_train=True):\n",
    "    \"\"\"Extract and reshape for LSTM (seq_len, batch, features)\"\"\"\n",
    "    if is_train:\n",
    "        X = data[:, 0, :50, :]  # (N, 50, 6)\n",
    "        Y = data[:, 0, 50:, :2]  # (N, 60, 2)\n",
    "    else:\n",
    "        X = data[:, 0, :, :]    # (N, 50, 6)\n",
    "        Y = None\n",
    "    \n",
    "    # Normalize\n",
    "    pos_mean, pos_std = X[..., :2].mean(), X[..., :2].std()\n",
    "    X_norm = (X - pos_mean) / pos_std\n",
    "    if Y is not None:\n",
    "        Y_norm = (Y - pos_mean) / pos_std\n",
    "    else:\n",
    "        Y_norm = None\n",
    "    \n",
    "    # Reshape for LSTM: (seq_len, batch, features)\n",
    "    X_norm = np.swapaxes(X_norm, 0, 1)  # (50, N, 6)\n",
    "    if Y is not None:\n",
    "        Y_norm = np.swapaxes(Y_norm, 0, 1)  # (60, N, 2)\n",
    "    \n",
    "    return X_norm, Y_norm, (pos_mean, pos_std)\n",
    "\n",
    "X_train, Y_train, norm_stats = prepare_data(train_data)\n",
    "X_test, _, _ = prepare_data(test_data, is_train=False)"
   ]
  },
  {
   "cell_type": "markdown",
   "id": "4437de3c",
   "metadata": {},
   "source": [
    "## Define Models"
   ]
  },
  {
   "cell_type": "code",
   "execution_count": 10,
   "id": "75c160d1",
   "metadata": {},
   "outputs": [],
   "source": [
    "class TrajectoryLSTM(nn.Module):\n",
    "    def __init__(self, input_size=6, hidden_size=128):\n",
    "        super().__init__()\n",
    "        self.lstm = nn.LSTM(\n",
    "            input_size=input_size,\n",
    "            hidden_size=hidden_size,\n",
    "            num_layers=2,\n",
    "            dropout=0.2,\n",
    "            batch_first=False\n",
    "        )\n",
    "        self.fc = nn.Linear(hidden_size, 2)\n",
    "        \n",
    "    def forward(self, x, pred_steps=60):\n",
    "        # Process input sequence (50 steps)\n",
    "        _, (hidden, cell) = self.lstm(x)  # x: (50, N, 6)\n",
    "        \n",
    "        # Initialize predictions\n",
    "        predictions = []\n",
    "        last_input = x[-1:, :, :]  # (1, N, 6)\n",
    "        \n",
    "        # Autoregressive prediction for 60 steps\n",
    "        for _ in range(pred_steps):\n",
    "            lstm_out, (hidden, cell) = self.lstm(\n",
    "                last_input, \n",
    "                (hidden, cell)  # Correct: pass the previous hidden/cell states\n",
    "            )\n",
    "            pred = self.fc(lstm_out)  # (1, N, 2)\n",
    "            predictions.append(pred)\n",
    "            \n",
    "            # Create next input with prediction + zeros for other features\n",
    "            last_input = torch.cat([\n",
    "                pred,\n",
    "                torch.zeros_like(last_input[:, :, 2:])\n",
    "            ], dim=-1)\n",
    "        \n",
    "        return torch.cat(predictions, dim=0)  # (60, N, 2)\n",
    "\n",
    "model = TrajectoryLSTM()\n",
    "optimizer = torch.optim.Adam(model.parameters(), lr=1e-3)\n",
    "criterion = nn.MSELoss()"
   ]
  },
  {
   "cell_type": "markdown",
   "id": "f17b5c45",
   "metadata": {},
   "source": [
    "## Do Training Loop"
   ]
  },
  {
   "cell_type": "code",
   "execution_count": 11,
   "id": "96280878",
   "metadata": {},
   "outputs": [
    {
     "name": "stdout",
     "output_type": "stream",
     "text": [
      "Epoch 1, Loss: 1.0023\n",
      "Epoch 2, Loss: 0.9820\n",
      "Epoch 3, Loss: 0.9638\n",
      "Epoch 4, Loss: 0.9473\n",
      "Epoch 5, Loss: 0.9322\n",
      "Epoch 6, Loss: 0.9190\n",
      "Epoch 7, Loss: 0.9095\n",
      "Epoch 8, Loss: 0.9079\n",
      "Epoch 9, Loss: 0.9152\n",
      "Epoch 10, Loss: 0.9153\n",
      "Epoch 11, Loss: 0.9093\n",
      "Epoch 12, Loss: 0.9037\n",
      "Epoch 13, Loss: 0.9003\n",
      "Epoch 14, Loss: 0.8983\n",
      "Epoch 15, Loss: 0.8964\n"
     ]
    }
   ],
   "source": [
    "device = torch.device('cuda' if torch.cuda.is_available() else 'cpu')\n",
    "model.to(device)\n",
    "\n",
    "# Convert to PyTorch tensors\n",
    "X_train_tensor = torch.FloatTensor(X_train).to(device)  # (50, 10000, 6)\n",
    "Y_train_tensor = torch.FloatTensor(Y_train).to(device)  # (60, 10000, 2)\n",
    "\n",
    "for epoch in range(15):  # LSTMs often need more epochs\n",
    "    model.train()\n",
    "    optimizer.zero_grad()\n",
    "    \n",
    "    # Forward pass\n",
    "    outputs = model(X_train_tensor)  # (60, 10000, 2)\n",
    "    \n",
    "    # Calculate loss (only compare with actual future steps)\n",
    "    loss = criterion(outputs, Y_train_tensor)\n",
    "    \n",
    "    # Backward pass\n",
    "    loss.backward()\n",
    "    optimizer.step()\n",
    "    \n",
    "    print(f\"Epoch {epoch+1}, Loss: {loss.item():.4f}\")"
   ]
  },
  {
   "cell_type": "markdown",
   "id": "a306ea3b",
   "metadata": {},
   "source": [
    "## Predict and Create Submission"
   ]
  },
  {
   "cell_type": "code",
   "execution_count": 12,
   "id": "8f30e174",
   "metadata": {},
   "outputs": [
    {
     "name": "stdout",
     "output_type": "stream",
     "text": [
      "LSTM Submission saved!\n"
     ]
    }
   ],
   "source": [
    "model.eval()\n",
    "with torch.no_grad():\n",
    "    X_test_tensor = torch.FloatTensor(X_test).to(device)  # (50, 2100, 6)\n",
    "    preds_norm = model(X_test_tensor).cpu().numpy()  # (60, 2100, 2)\n",
    "\n",
    "# Reshape and denormalize\n",
    "preds_norm = np.swapaxes(preds_norm, 0, 1)  # (2100, 60, 2)\n",
    "preds = preds_norm * norm_stats[1] + norm_stats[0]\n",
    "\n",
    "# Create submission\n",
    "submission = preds.reshape(-1, 2)  # (126000, 2)\n",
    "submission_df = pd.DataFrame(submission, columns=['x', 'y'])\n",
    "submission_df.index.name = 'index'\n",
    "submission_df.to_csv('lstm_submission.csv')\n",
    "\n",
    "print(\"LSTM Submission saved!\")"
   ]
  }
 ],
 "metadata": {
  "kernelspec": {
   "display_name": "Python 3",
   "language": "python",
   "name": "python3"
  },
  "language_info": {
   "codemirror_mode": {
    "name": "ipython",
    "version": 3
   },
   "file_extension": ".py",
   "mimetype": "text/x-python",
   "name": "python",
   "nbconvert_exporter": "python",
   "pygments_lexer": "ipython3",
   "version": "3.11.9"
  }
 },
 "nbformat": 4,
 "nbformat_minor": 5
}
